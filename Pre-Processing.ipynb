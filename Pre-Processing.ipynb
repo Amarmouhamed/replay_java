{
 "cells": [
  {
   "cell_type": "code",
   "execution_count": 14,
   "metadata": {},
   "outputs": [],
   "source": [
    "import numpy as np\n",
    "\n",
    "import matplotlib.pyplot as plt\n",
    "\n",
    "from sklearn.preprocessing import LabelEncoder, LabelBinarizer, OrdinalEncoder, OneHotEncoder\n",
    "from sklearn.preprocessing import PolynomialFeatures\n",
    "from sklearn.preprocessing import MinMaxScaler, StandardScaler, RobustScaler"
   ]
  },
  {
   "cell_type": "code",
   "execution_count": 15,
   "metadata": {},
   "outputs": [
    {
     "data": {
      "text/plain": [
       "LabelEncoder()"
      ]
     },
     "execution_count": 15,
     "metadata": {},
     "output_type": "execute_result"
    }
   ],
   "source": [
    "X=np.array(['Chien','Chat','Oiseau'])\n",
    "\n",
    "#Fonction utilisee pour l'encodage des XJ\n",
    "\n",
    "transform=LabelEncoder()\n",
    "\n",
    "transform.fit(X)"
   ]
  },
  {
   "cell_type": "code",
   "execution_count": 16,
   "metadata": {},
   "outputs": [
    {
     "data": {
      "text/plain": [
       "array([1, 0, 2], dtype=int64)"
      ]
     },
     "execution_count": 16,
     "metadata": {},
     "output_type": "execute_result"
    }
   ],
   "source": [
    "transform.transform(X)"
   ]
  },
  {
   "cell_type": "code",
   "execution_count": 66,
   "metadata": {},
   "outputs": [
    {
     "data": {
      "text/plain": [
       "array([1, 0, 2], dtype=int64)"
      ]
     },
     "execution_count": 66,
     "metadata": {},
     "output_type": "execute_result"
    }
   ],
   "source": [
    "\n",
    "transform.fit_transform(X)\n"
   ]
  },
  {
   "cell_type": "code",
   "execution_count": 35,
   "metadata": {},
   "outputs": [
    {
     "data": {
      "text/plain": [
       "array([1, 0, 2], dtype=int64)"
      ]
     },
     "execution_count": 35,
     "metadata": {},
     "output_type": "execute_result"
    }
   ],
   "source": [
    "\n",
    "Y=np.array(['Chien','Chat','Oiseau'])\n",
    "\n",
    "encoder=LabelEncoder()\n",
    "\n",
    "# On peut utiliser la fonction encoder \n",
    "encoder.fit_transform(Y)"
   ]
  },
  {
   "cell_type": "code",
   "execution_count": 28,
   "metadata": {},
   "outputs": [
    {
     "data": {
      "text/plain": [
       "array(['Chat', 'Chat', 'Chien', 'Oiseau'], dtype='<U6')"
      ]
     },
     "execution_count": 28,
     "metadata": {},
     "output_type": "execute_result"
    }
   ],
   "source": [
    "#On peut faire l'operation inverse pour avoir unne idee sur les valeurs qualitatives \n",
    "\n",
    "val_qualitative=np.array([0,0,1,2])\n",
    "\n",
    "encoder.inverse_transform(val_qualitative)\n"
   ]
  },
  {
   "cell_type": "code",
   "execution_count": 6,
   "metadata": {},
   "outputs": [],
   "source": [
    "# Pour travailler avec plusieurs dimensions on utilise OrdinalEncoder\n",
    "\n",
    "X=np.array([ ['Chien','Mouton'],\n",
    "            ['chevre','Lapin'],\n",
    "            ['oiseau','perroquet']])"
   ]
  },
  {
   "cell_type": "code",
   "execution_count": 68,
   "metadata": {},
   "outputs": [
    {
     "data": {
      "text/plain": [
       "array([[0., 1.],\n",
       "       [1., 0.],\n",
       "       [2., 2.]])"
      ]
     },
     "execution_count": 68,
     "metadata": {},
     "output_type": "execute_result"
    }
   ],
   "source": [
    "\n",
    "encoder=OrdinalEncoder()\n",
    "\n",
    "encoder.fit_transform(X) "
   ]
  },
  {
   "cell_type": "code",
   "execution_count": 69,
   "metadata": {},
   "outputs": [
    {
     "data": {
      "text/plain": [
       "<4x4 sparse matrix of type '<class 'numpy.int32'>'\n",
       "\twith 4 stored elements in Compressed Sparse Row format>"
      ]
     },
     "execution_count": 69,
     "metadata": {},
     "output_type": "execute_result"
    }
   ],
   "source": [
    "\n",
    "X=np.array(['Ovin','Bovin','Rampard','Felin'])\n",
    "\n",
    "#Cette fonction associe chaque colone a une variable qualitative\n",
    "\n",
    "#On peut compresser la matrice pour optimiser sur lespace (en ignorant les valeurs != 0)\n",
    "\n",
    "encoder=LabelBinarizer(sparse_output=True)\n",
    "\n",
    "encoder.fit_transform(X) \n"
   ]
  },
  {
   "cell_type": "code",
   "execution_count": 70,
   "metadata": {},
   "outputs": [
    {
     "data": {
      "text/plain": [
       "<3x6 sparse matrix of type '<class 'numpy.float64'>'\n",
       "\twith 6 stored elements in Compressed Sparse Row format>"
      ]
     },
     "execution_count": 70,
     "metadata": {},
     "output_type": "execute_result"
    }
   ],
   "source": [
    "\n",
    "X=np.array([ ['Chien','Mouton'],\n",
    "            ['chevre','Lapin'],\n",
    "            ['oiseau','perroquet']])\n",
    "\n",
    "#On peut utiliser onHotEncoder qui par defaut compresse la matrice \n",
    "\n",
    "\n",
    "encoder=OneHotEncoder()\n",
    "\n",
    "encoder.fit_transform(X) "
   ]
  },
  {
   "cell_type": "code",
   "execution_count": 7,
   "metadata": {},
   "outputs": [
    {
     "data": {
      "text/plain": [
       "array([[0.5       ],\n",
       "       [1.        ],\n",
       "       [0.        ],\n",
       "       [0.48863636]])"
      ]
     },
     "execution_count": 7,
     "metadata": {},
     "output_type": "execute_result"
    }
   ],
   "source": [
    "#La normalisation \n",
    "    \n",
    "tab =np.array([[56],[100],[12],[55]])\n",
    "\n",
    "# Cette fonction permet de normaliser un ensemble de colonnes \n",
    "\n",
    "normalisation=MinMaxScaler()\n",
    "\n",
    "normalisation.fit_transform(tab)\n"
   ]
  },
  {
   "cell_type": "code",
   "execution_count": 76,
   "metadata": {},
   "outputs": [
    {
     "data": {
      "text/plain": [
       "[<matplotlib.lines.Line2D at 0x23f111ead00>,\n",
       " <matplotlib.lines.Line2D at 0x23f111ea760>,\n",
       " <matplotlib.lines.Line2D at 0x23f111ea850>,\n",
       " <matplotlib.lines.Line2D at 0x23f111eab50>]"
      ]
     },
     "execution_count": 76,
     "metadata": {},
     "output_type": "execute_result"
    },
    {
     "data": {
      "image/png": "[encoded data removed]",
      "text/plain": [
       "<Figure size 432x288 with 1 Axes>"
      ]
     },
     "metadata": {
      "needs_background": "light"
     },
     "output_type": "display_data"
    }
   ],
   "source": [
    "#Avant Normalisation \n",
    "\n",
    "from sklearn.datasets import load_iris\n",
    "iris = load_iris()\n",
    "X = iris.data\n",
    "plt.plot(X)"
   ]
  },
  {
   "cell_type": "code",
   "execution_count": 77,
   "metadata": {},
   "outputs": [
    {
     "data": {
      "text/plain": [
       "<matplotlib.collections.PathCollection at 0x23f10ae0880>"
      ]
     },
     "execution_count": 77,
     "metadata": {},
     "output_type": "execute_result"
    },
    {
     "data": {
      "image/png": "[encoded data removed]",
      "text/plain": [
       "<Figure size 432x288 with 1 Axes>"
      ]
     },
     "metadata": {
      "needs_background": "light"
     },
     "output_type": "display_data"
    }
   ],
   "source": [
    "#Apres Normalisation \n",
    "X_minmax = MinMaxScaler().fit_transform(X)\n",
    "plt.scatter(X[:, 2], X[:, 3])\n",
    "plt.scatter(X_minmax[:, 2], X_minmax[:, 3])"
   ]
  },
  {
   "cell_type": "code",
   "execution_count": 41,
   "metadata": {},
   "outputs": [
    {
     "data": {
      "text/plain": [
       "<matplotlib.collections.PathCollection at 0x23f1049a550>"
      ]
     },
     "execution_count": 41,
     "metadata": {},
     "output_type": "execute_result"
    },
    {
     "data": {
      "image/png": "[encoded data removed]",
      "text/plain": [
       "<Figure size 432x288 with 1 Axes>"
      ]
     },
     "metadata": {
      "needs_background": "light"
     },
     "output_type": "display_data"
    }
   ],
   "source": [
    "#Cette fonction permet de standariser en utilisant lecart type et la valeur moyenne \n",
    "\n",
    "X_stdscl = StandardScaler().fit_transform(X)\n",
    "\n",
    "plt.scatter(X[:, 2], X[:, 3])\n",
    "\n",
    "plt.scatter(X_stdscl[:, 2], X_stdscl[:, 3])"
   ]
  },
  {
   "cell_type": "code",
   "execution_count": 72,
   "metadata": {},
   "outputs": [
    {
     "data": {
      "text/plain": [
       "<matplotlib.collections.PathCollection at 0x23f113cfd30>"
      ]
     },
     "execution_count": 72,
     "metadata": {},
     "output_type": "execute_result"
    },
    {
     "data": {
      "image/png": "[encoded data removed]",
      "text/plain": [
       "<Figure size 432x288 with 1 Axes>"
      ]
     },
     "metadata": {
      "needs_background": "light"
     },
     "output_type": "display_data"
    }
   ],
   "source": [
    "#En presence d'outliers ,il est conseille d'eviter \n",
    "#les StandarScaler et MinMaxScaler()\n",
    "#Dans ce cas on utilise RobustScaler()\n",
    "\n",
    "X_stdscl = RobustScaler().fit_transform(X)\n",
    "\n",
    "plt.scatter(X[:, 2], X[:, 3])\n",
    "\n",
    "plt.scatter(X_stdscl[:, 2], X_stdscl[:, 3])\n"
   ]
  },
  {
   "cell_type": "code",
   "execution_count": 105,
   "metadata": {},
   "outputs": [
    {
     "data": {
      "text/plain": [
       "0.9"
      ]
     },
     "execution_count": 105,
     "metadata": {},
     "output_type": "execute_result"
    }
   ],
   "source": [
    "from sklearn.pipeline import make_pipeline\n",
    "\n",
    "from sklearn.linear_model import SGDClassifier\n",
    "\n",
    "from sklearn.model_selection import train_test_split\n",
    "\n",
    "X = iris.data\n",
    "y = iris.target\n",
    "\n",
    "X_train, X_test, y_train, y_test = train_test_split(X, y,test_size=0.2,random_state=0)\n",
    "\n",
    "#print(X_train)\n",
    "\n",
    "scaler=StandardScaler()\n",
    "\n",
    "#Transformateur\n",
    "\n",
    "X_transformed=scaler.fit_transform(X_train)\n",
    "\n",
    "model=SGDClassifier()\n",
    "\n",
    "#Estimateur\n",
    "\n",
    "model.fit(X_transformed,y_train)\n",
    "\n",
    "#model.predict(X_transformed)\n",
    "\n",
    "X_test_transformed=scaler.fit_transform(X_test)\n",
    "\n",
    "model.fit(X_test_transformed,y_test)\n",
    "\n",
    "model.predict(X_test_transformed)\n",
    "\n",
    "model.score(X_test_transformed,y_test)\n",
    "\n",
    "#Score en deux temps:estimateur + transformateur \n",
    "# =>"
   ]
  },
  {
   "cell_type": "code",
   "execution_count": 98,
   "metadata": {},
   "outputs": [
    {
     "data": {
      "text/plain": [
       "0.6578947368421053"
      ]
     },
     "execution_count": 98,
     "metadata": {},
     "output_type": "execute_result"
    }
   ],
   "source": [
    "#Le pipeline permet de combiner l'estimateur et le transformateur \n",
    "#Sans processing\n",
    "\n",
    "X_train, X_test, y_train, y_test = train_test_split(X, y, random_state=0)\n",
    "\n",
    "model.fit(X_train,y_train)\n",
    "\n",
    "model.score(X_test,y_test)\n"
   ]
  },
  {
   "cell_type": "code",
   "execution_count": 107,
   "metadata": {},
   "outputs": [
    {
     "data": {
      "text/plain": [
       "0.9736842105263158"
      ]
     },
     "execution_count": 107,
     "metadata": {},
     "output_type": "execute_result"
    }
   ],
   "source": [
    "#Avec Processing\n",
    "\n",
    "X = iris.data\n",
    "y = iris.target\n",
    "\n",
    "X_train, X_test, y_train, y_test = train_test_split(X, y, random_state=0)\n",
    "\n",
    "model=make_pipeline(StandardScaler(),SGDClassifier())\n",
    "\n",
    "model.fit(X_train,y_train)\n",
    "\n",
    "model.score(X_test,y_test)\n",
    "\n",
    "#Score un pierre deux coups:estimateur + transformateur \n",
    "\n"
   ]
  },
  {
   "cell_type": "code",
   "execution_count": null,
   "metadata": {},
   "outputs": [],
   "source": []
  }
 ],
 "metadata": {
  "kernelspec": {
   "display_name": "Python 3",
   "language": "python",
   "name": "python3"
  },
  "language_info": {
   "codemirror_mode": {
    "name": "ipython",
    "version": 3
   },
   "file_extension": ".py",
   "mimetype": "text/x-python",
   "name": "python",
   "nbconvert_exporter": "python",
   "pygments_lexer": "ipython3",
   "version": "3.8.8"
  }
 },
 "nbformat": 4,
 "nbformat_minor": 4
}
