{
 "cells": [
  {
   "cell_type": "code",
   "execution_count": 1,
   "metadata": {
    "scrolled": true
   },
   "outputs": [
    {
     "name": "stdout",
     "output_type": "stream",
     "text": [
      "Shape: (150, 6)\n",
      "Columns: Index(['Id', 'SepalLengthCm', 'SepalWidthCm', 'PetalLengthCm', 'PetalWidthCm',\n",
      "       'Species'],\n",
      "      dtype='object')\n"
     ]
    }
   ],
   "source": [
    "import pandas as pd \n",
    "\n",
    "import matplotlib.pyplot as plt\n",
    "\n",
    "import seaborn as sn \n",
    "\n",
    "# reading csv file\n",
    "\n",
    "data = pd.read_csv('iris.csv') \n",
    "\n",
    "# shape of dataset \n",
    "\n",
    "print(\"Shape:\", data.shape) \n",
    "\n",
    "# column names \n",
    "\n",
    "print(\"Columns:\", data.columns) \n"
   ]
  },
  {
   "cell_type": "code",
   "execution_count": null,
   "metadata": {},
   "outputs": [],
   "source": []
  },
  {
   "cell_type": "code",
   "execution_count": 4,
   "metadata": {},
   "outputs": [
    {
     "name": "stdout",
     "output_type": "stream",
     "text": [
      "\n",
      "Feature matrix:\n",
      "    Id  SepalLengthCm  SepalWidthCm  PetalLengthCm  PetalWidthCm\n",
      "0   1            5.1           3.5            1.4           0.2\n",
      "1   2            4.9           3.0            1.4           0.2\n",
      "2   3            4.7           3.2            1.3           0.2\n",
      "3   4            4.6           3.1            1.5           0.2\n",
      "4   5            5.0           3.6            1.4           0.2\n",
      "5   6            5.4           3.9            1.7           0.4\n",
      "6   7            4.6           3.4            1.4           0.3\n",
      "7   8            5.0           3.4            1.5           0.2\n",
      "8   9            4.4           2.9            1.4           0.2\n",
      "9  10            4.9           3.1            1.5           0.1\n",
      "\n",
      "Response vector:\n",
      " 0    Iris-setosa\n",
      "1    Iris-setosa\n",
      "2    Iris-setosa\n",
      "3    Iris-setosa\n",
      "4    Iris-setosa\n",
      "5    Iris-setosa\n",
      "6    Iris-setosa\n",
      "7    Iris-setosa\n",
      "8    Iris-setosa\n",
      "9    Iris-setosa\n",
      "Name: Species, dtype: object\n"
     ]
    }
   ],
   "source": [
    "# storing the feature matrix (x) and response vector (y) \n",
    "\n",
    "x = data[data.columns[:-1]]\n",
    "\n",
    "y = data[data.columns[-1]] \n",
    "\n",
    "# printing first 5 rows of feature matrix \n",
    "\n",
    "print(\"\\nFeature matrix:\\n\", x.head(10)) \n",
    "\n",
    "# printing first 5 values of response vector \n",
    "\n",
    "print(\"\\nResponse vector:\\n\", y.head(10))\n"
   ]
  },
  {
   "cell_type": "code",
   "execution_count": 5,
   "metadata": {},
   "outputs": [
    {
     "name": "stdout",
     "output_type": "stream",
     "text": [
      "Donnees entrainees:\n",
      "(100, 5)\n",
      "(100,)\n",
      "Donnees testees:\n",
      "(50, 5)\n",
      "(50,)\n"
     ]
    }
   ],
   "source": [
    "# splitting X and y into training and testing sets \n",
    "# scikit learn\n",
    "\n",
    "from sklearn.model_selection import train_test_split \n",
    "\n",
    "x_train, x_test, y_train, y_test = train_test_split(x, y, test_size=0.33,random_state=1) \n",
    "\n",
    "# printing the shapes of the new X object and y object of the training set \n",
    "print('Donnees entrainees:')\n",
    "print(x_train.shape) \n",
    "print(y_train.shape)\n",
    "\n",
    "# printing the shapes of the new y object and y object of the test set \n",
    "print('Donnees testees:')\n",
    "print(x_test.shape) \n",
    "print(y_test.shape) \n"
   ]
  },
  {
   "cell_type": "code",
   "execution_count": 6,
   "metadata": {},
   "outputs": [
    {
     "name": "stdout",
     "output_type": "stream",
     "text": [
      "\n",
      "Feature matrix:\n",
      "       Id  SepalLengthCm  SepalWidthCm  PetalLengthCm  PetalWidthCm\n",
      "39    40            5.1           3.4            1.5           0.2\n",
      "36    37            5.5           3.5            1.3           0.2\n",
      "117  118            7.7           3.8            6.7           2.2\n",
      "139  140            6.9           3.1            5.4           2.1\n",
      "107  108            7.3           2.9            6.3           1.8\n",
      "..   ...            ...           ...            ...           ...\n",
      "133  134            6.3           2.8            5.1           1.5\n",
      "137  138            6.4           3.1            5.5           1.8\n",
      "72    73            6.3           2.5            4.9           1.5\n",
      "140  141            6.7           3.1            5.6           2.4\n",
      "37    38            4.9           3.1            1.5           0.1\n",
      "\n",
      "[100 rows x 5 columns]\n",
      "\n",
      "Response vector:\n",
      " 39         Iris-setosa\n",
      "36         Iris-setosa\n",
      "117     Iris-virginica\n",
      "139     Iris-virginica\n",
      "107     Iris-virginica\n",
      "132     Iris-virginica\n",
      "126     Iris-virginica\n",
      "85     Iris-versicolor\n",
      "122     Iris-virginica\n",
      "95     Iris-versicolor\n",
      "11         Iris-setosa\n",
      "113     Iris-virginica\n",
      "123     Iris-virginica\n",
      "12         Iris-setosa\n",
      "2          Iris-setosa\n",
      "104     Iris-virginica\n",
      "6          Iris-setosa\n",
      "127     Iris-virginica\n",
      "110     Iris-virginica\n",
      "65     Iris-versicolor\n",
      "55     Iris-versicolor\n",
      "144     Iris-virginica\n",
      "138     Iris-virginica\n",
      "46         Iris-setosa\n",
      "62     Iris-versicolor\n",
      "74     Iris-versicolor\n",
      "116     Iris-virginica\n",
      "93     Iris-versicolor\n",
      "100     Iris-virginica\n",
      "89     Iris-versicolor\n",
      "10         Iris-setosa\n",
      "34         Iris-setosa\n",
      "32         Iris-setosa\n",
      "124     Iris-virginica\n",
      "38         Iris-setosa\n",
      "83     Iris-versicolor\n",
      "111     Iris-virginica\n",
      "149     Iris-virginica\n",
      "27         Iris-setosa\n",
      "23         Iris-setosa\n",
      "67     Iris-versicolor\n",
      "9          Iris-setosa\n",
      "130     Iris-virginica\n",
      "97     Iris-versicolor\n",
      "105     Iris-virginica\n",
      "Name: Species, dtype: object\n"
     ]
    }
   ],
   "source": [
    "# printing first 5 rows of feature matrix of the training set\n",
    "\n",
    "print(\"\\nFeature matrix:\\n\", x_train.head(100)) \n",
    "\n",
    "# printing first 5 values of response vector of the training set\n",
    "print(\"\\nResponse vector:\\n\", y_train.head(45))"
   ]
  },
  {
   "cell_type": "code",
   "execution_count": 15,
   "metadata": {},
   "outputs": [
    {
     "name": "stdout",
     "output_type": "stream",
     "text": [
      "\n",
      "Feature matrix:\n",
      "       Id  SepalLengthCm  SepalWidthCm  PetalLengthCm  PetalWidthCm\n",
      "14    15            5.8           4.0            1.2           0.2\n",
      "98    99            5.1           2.5            3.0           1.1\n",
      "75    76            6.6           3.0            4.4           1.4\n",
      "16    17            5.4           3.9            1.3           0.4\n",
      "131  132            7.9           3.8            6.4           2.0\n",
      "\n",
      "Response vector:\n",
      " 14         Iris-setosa\n",
      "98     Iris-versicolor\n",
      "75     Iris-versicolor\n",
      "16         Iris-setosa\n",
      "131     Iris-virginica\n",
      "Name: Species, dtype: object\n"
     ]
    }
   ],
   "source": [
    "# printing first 5 rows of feature matrix of the test set\n",
    "\n",
    "print(\"\\nFeature matrix:\\n\", x_test.head()) \n",
    "\n",
    "# printing first 5 values of response vector of the test set\n",
    "print(\"\\nResponse vector:\\n\", y_test.head())"
   ]
  },
  {
   "cell_type": "code",
   "execution_count": 16,
   "metadata": {},
   "outputs": [
    {
     "data": {
      "text/plain": [
       "KNeighborsClassifier(n_neighbors=10)"
      ]
     },
     "execution_count": 16,
     "metadata": {},
     "output_type": "execute_result"
    }
   ],
   "source": [
    "# training the model on training set \n",
    "\n",
    "from sklearn.neighbors import KNeighborsClassifier \n",
    "\n",
    "knn = KNeighborsClassifier(n_neighbors=10) \n",
    "\n",
    "#The prediction of the model \n",
    "\n",
    "knn.fit(x_train, y_train) \n"
   ]
  },
  {
   "cell_type": "code",
   "execution_count": 17,
   "metadata": {},
   "outputs": [
    {
     "name": "stdout",
     "output_type": "stream",
     "text": [
      "Classes prédites pour les exemples de test\n",
      "['Iris-setosa' 'Iris-versicolor' 'Iris-versicolor' 'Iris-setosa'\n",
      " 'Iris-virginica' 'Iris-versicolor' 'Iris-virginica' 'Iris-setosa'\n",
      " 'Iris-setosa' 'Iris-virginica' 'Iris-versicolor' 'Iris-setosa'\n",
      " 'Iris-virginica' 'Iris-versicolor' 'Iris-versicolor' 'Iris-setosa'\n",
      " 'Iris-versicolor' 'Iris-versicolor' 'Iris-setosa' 'Iris-setosa'\n",
      " 'Iris-versicolor' 'Iris-versicolor' 'Iris-versicolor' 'Iris-setosa'\n",
      " 'Iris-virginica' 'Iris-virginica' 'Iris-setosa' 'Iris-setosa'\n",
      " 'Iris-versicolor' 'Iris-virginica' 'Iris-versicolor' 'Iris-virginica'\n",
      " 'Iris-versicolor' 'Iris-virginica' 'Iris-virginica' 'Iris-setosa'\n",
      " 'Iris-versicolor' 'Iris-setosa' 'Iris-versicolor' 'Iris-virginica'\n",
      " 'Iris-virginica' 'Iris-setosa' 'Iris-virginica' 'Iris-virginica'\n",
      " 'Iris-versicolor' 'Iris-virginica' 'Iris-setosa' 'Iris-setosa'\n",
      " 'Iris-setosa' 'Iris-versicolor']\n",
      "Classes réelles des exemples de test\n",
      "14         Iris-setosa\n",
      "98     Iris-versicolor\n",
      "75     Iris-versicolor\n",
      "16         Iris-setosa\n",
      "131     Iris-virginica\n",
      "56     Iris-versicolor\n",
      "141     Iris-virginica\n",
      "44         Iris-setosa\n",
      "29         Iris-setosa\n",
      "120     Iris-virginica\n",
      "94     Iris-versicolor\n",
      "5          Iris-setosa\n",
      "102     Iris-virginica\n",
      "51     Iris-versicolor\n",
      "78     Iris-versicolor\n",
      "42         Iris-setosa\n",
      "92     Iris-versicolor\n",
      "66     Iris-versicolor\n",
      "31         Iris-setosa\n",
      "35         Iris-setosa\n",
      "90     Iris-versicolor\n",
      "84     Iris-versicolor\n",
      "77     Iris-versicolor\n",
      "40         Iris-setosa\n",
      "125     Iris-virginica\n",
      "99     Iris-versicolor\n",
      "33         Iris-setosa\n",
      "19         Iris-setosa\n",
      "73     Iris-versicolor\n",
      "146     Iris-virginica\n",
      "91     Iris-versicolor\n",
      "135     Iris-virginica\n",
      "69     Iris-versicolor\n",
      "128     Iris-virginica\n",
      "114     Iris-virginica\n",
      "48         Iris-setosa\n",
      "53     Iris-versicolor\n",
      "28         Iris-setosa\n",
      "54     Iris-versicolor\n",
      "108     Iris-virginica\n",
      "112     Iris-virginica\n",
      "17         Iris-setosa\n",
      "119     Iris-virginica\n",
      "103     Iris-virginica\n",
      "58     Iris-versicolor\n",
      "118     Iris-virginica\n",
      "18         Iris-setosa\n",
      "4          Iris-setosa\n",
      "45         Iris-setosa\n",
      "59     Iris-versicolor\n",
      "Name: Species, dtype: object\n"
     ]
    }
   ],
   "source": [
    "# making predictions on the testing set \n",
    "y_pred = knn.predict(x_test) \n",
    "\n",
    "print(\"Classes prédites pour les exemples de test\")\n",
    "print(y_pred)\n",
    "print(\"Classes réelles des exemples de test\")\n",
    "print(y_test)\n"
   ]
  },
  {
   "cell_type": "code",
   "execution_count": 32,
   "metadata": {},
   "outputs": [
    {
     "name": "stdout",
     "output_type": "stream",
     "text": [
      "Matrice de confusion avec les exemples de test\n",
      "[[17  0  0]\n",
      " [ 0 18  1]\n",
      " [ 0  0 14]]\n"
     ]
    }
   ],
   "source": [
    "conf=metrics.confusion_matrix(y_test, y_pred)\n",
    "\n",
    "print(\"Matrice de confusion avec les exemples de test\")\n",
    "\n",
    "print(conf)"
   ]
  },
  {
   "cell_type": "code",
   "execution_count": 35,
   "metadata": {},
   "outputs": [
    {
     "name": "stdout",
     "output_type": "stream",
     "text": [
      "                 precision    recall  f1-score   support\n",
      "\n",
      "    Iris-setosa       1.00      1.00      1.00        17\n",
      "Iris-versicolor       1.00      0.95      0.97        19\n",
      " Iris-virginica       0.93      1.00      0.97        14\n",
      "\n",
      "       accuracy                           0.98        50\n",
      "      macro avg       0.98      0.98      0.98        50\n",
      "   weighted avg       0.98      0.98      0.98        50\n",
      "\n"
     ]
    }
   ],
   "source": [
    "\n",
    "result=metrics.classification_report(y_test,y_pred)\n",
    "\n",
    "print(result)\n"
   ]
  },
  {
   "cell_type": "code",
   "execution_count": 18,
   "metadata": {},
   "outputs": [
    {
     "name": "stdout",
     "output_type": "stream",
     "text": [
      "efficacité du modèle sur les exemples de test :  0.98  , soit  98.0  %\n",
      "erreur du modèle sur les exemples de test :  0.020000000000000018  , soit  2.0000000000000018  %\n"
     ]
    }
   ],
   "source": [
    "# comparing actual response values (y_test) with predicted response values (y_pred) \n",
    "from sklearn import metrics \n",
    "efficacite = metrics.accuracy_score(y_test, y_pred)\n",
    "erreur = 1-efficacite\n",
    "print(\"efficacité du modèle sur les exemples de test : \", efficacite , \" , soit \", efficacite*100 , ' %') \n",
    "print(\"erreur du modèle sur les exemples de test : \", erreur, \" , soit \", erreur*100 , ' %') \n",
    "\n"
   ]
  },
  {
   "cell_type": "code",
   "execution_count": 11,
   "metadata": {},
   "outputs": [
    {
     "name": "stdout",
     "output_type": "stream",
     "text": [
      "Predictions: ['versicolor' 'virginica']\n"
     ]
    }
   ],
   "source": [
    "# making prediction for two examples\n",
    "sample = [[3, 5, 4, 2], [2, 3, 5, 4]] \n",
    "preds = knn.predict(sample) \n",
    "print(\"Predictions:\", preds) "
   ]
  },
  {
   "cell_type": "code",
   "execution_count": 12,
   "metadata": {},
   "outputs": [
    {
     "name": "stdout",
     "output_type": "stream",
     "text": [
      "Sauvegarde du modèle dans le disque\n"
     ]
    }
   ],
   "source": [
    "print('Sauvegarde du modèle dans le disque')\n",
    "import pickle\n",
    "pickle.dump(knn,open(\"SIR_knn_ml_model.sav\", \"wb\"))"
   ]
  },
  {
   "cell_type": "code",
   "execution_count": 14,
   "metadata": {},
   "outputs": [
    {
     "name": "stdout",
     "output_type": "stream",
     "text": [
      "Chargement du modèle sauvegardé\n",
      "prédictioons du modèle sauvegardé pour de nuveaux exemples\n",
      "Predictions: ['versicolor' 'virginica' 'versicolor']\n"
     ]
    }
   ],
   "source": [
    "print('Chargement du modèle sauvegardé')\n",
    "knn_from_pickle = pickle.load(open(\"SIR_knn_ml_model.sav\", \"rb\"))\n",
    "print('prédictioons du modèle sauvegardé pour de nouveaux exemples')\n",
    "sample = [[3, 5, 4, 2], [2, 3, 5, 4], [2.5, 1.3, 3.5, 4.0]] \n",
    "preds = knn_from_pickle.predict(sample) \n",
    "print(\"Predictions:\", preds) "
   ]
  },
  {
   "cell_type": "code",
   "execution_count": 30,
   "metadata": {},
   "outputs": [
    {
     "name": "stdout",
     "output_type": "stream",
     "text": [
      "Pour les valeurs de K_List\n",
      "[1, 2, 3, 4, 5, 6, 7, 8, 9, 10, 11, 12, 13, 14, 15, 16, 17, 18, 19, 20, 21, 22, 23, 24, 25, 26, 27, 28, 29, 30]\n",
      "Pour l'efiicacite\n",
      "[0.98, 0.98, 0.98, 0.98, 0.98, 0.98, 0.98, 0.98, 0.98, 0.98, 0.98, 0.98, 0.98, 0.98, 0.98, 0.98, 0.98, 0.98, 0.98, 0.98, 0.98, 0.98, 0.98, 0.98, 0.98, 0.98, 0.98, 0.98, 0.98, 0.98]\n"
     ]
    }
   ],
   "source": [
    "accuracy_list=[]\n",
    "\n",
    "for k in range(1,31):\n",
    "    \n",
    "    knn = KNeighborsClassifier(n_neighbors=10)\n",
    "\n",
    "    knn.fit(x_train, y_train) \n",
    "    y_pred = knn.predict(x_test) \n",
    "    acc=metrics.accuracy_score(y_pred,y_test)\n",
    "    accuracy_list.append(acc)\n",
    "    \n",
    "k_list=list(range(1,31))\n",
    "\n",
    "print(\"Pour les valeurs de K_List\")\n",
    "\n",
    "print(k_list)\n",
    "\n",
    "print(\"Pour l'efiicacite\")\n",
    "\n",
    "print(  accuracy_list)\n",
    "\n"
   ]
  },
  {
   "cell_type": "code",
   "execution_count": 28,
   "metadata": {},
   "outputs": [
    {
     "data": {
      "text/plain": [
       "[<matplotlib.lines.Line2D at 0x2b65c942d60>]"
      ]
     },
     "execution_count": 28,
     "metadata": {},
     "output_type": "execute_result"
    },
    {
     "data": {
      "image/png": "[encoded data removed]",
      "text/plain": [
       "<Figure size 432x288 with 1 Axes>"
      ]
     },
     "metadata": {
      "needs_background": "light"
     },
     "output_type": "display_data"
    }
   ],
   "source": [
    "plt.plot(k_list,accuracy_list)\n",
    "\n"
   ]
  },
  {
   "cell_type": "code",
   "execution_count": null,
   "metadata": {},
   "outputs": [],
   "source": []
  }
 ],
 "metadata": {
  "kernelspec": {
   "display_name": "Python 3",
   "language": "python",
   "name": "python3"
  },
  "language_info": {
   "codemirror_mode": {
    "name": "ipython",
    "version": 3
   },
   "file_extension": ".py",
   "mimetype": "text/x-python",
   "name": "python",
   "nbconvert_exporter": "python",
   "pygments_lexer": "ipython3",
   "version": "3.8.8"
  }
 },
 "nbformat": 4,
 "nbformat_minor": 2
}
